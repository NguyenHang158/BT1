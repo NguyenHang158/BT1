{
  "nbformat": 4,
  "nbformat_minor": 0,
  "metadata": {
    "colab": {
      "provenance": [],
      "toc_visible": true
    },
    "kernelspec": {
      "name": "python3",
      "display_name": "Python 3"
    },
    "language_info": {
      "name": "python"
    }
  },
  "cells": [
    {
      "cell_type": "markdown",
      "source": [
        "Bai 1\n"
      ],
      "metadata": {
        "id": "mkGieRwUK5oC"
      }
    },
    {
      "cell_type": "code",
      "source": [
        "num_list = [3,4,5,1,-44,5,10,12,33,1]\n",
        "k = 3\n",
        "sub_list = []\n",
        "result = []\n",
        "for num in num_list:\n",
        "    sub_list.append(num)\n",
        "    if len(sub_list) == k:\n",
        "        result.append(max(sub_list))\n",
        "        del sub_list[0]\n",
        "print(result)\n",
        "\n"
      ],
      "metadata": {
        "colab": {
          "base_uri": "https://localhost:8080/"
        },
        "id": "yTnKuiDZAmgB",
        "outputId": "5e9f36b7-fc6f-4a7e-97e2-d55d8af2ca26"
      },
      "execution_count": 1,
      "outputs": [
        {
          "output_type": "stream",
          "name": "stdout",
          "text": [
            "[5, 5, 5, 5, 10, 12, 33, 33]\n"
          ]
        }
      ]
    },
    {
      "cell_type": "markdown",
      "source": [
        "Bai 2"
      ],
      "metadata": {
        "id": "SLmH503TVfxz"
      }
    },
    {
      "cell_type": "code",
      "source": [
        "word = 'Happy'\n",
        "lower_word = word.lower()\n",
        "result = {}\n",
        "for char in lower_word:\n",
        "    if char in result:\n",
        "        result[char] += 1\n",
        "    else:\n",
        "        result[char] = 1\n",
        "print(result)\n",
        "\n",
        ""
      ],
      "metadata": {
        "colab": {
          "base_uri": "https://localhost:8080/"
        },
        "id": "tKM5Y5ooVeJF",
        "outputId": "c1179c8b-56f1-4ec7-f7fd-a1cadefd0747"
      },
      "execution_count": 10,
      "outputs": [
        {
          "output_type": "stream",
          "name": "stdout",
          "text": [
            "{'h': 1, 'a': 1, 'p': 2, 'y': 1}\n"
          ]
        }
      ]
    },
    {
      "cell_type": "markdown",
      "source": [
        "Bai 3"
      ],
      "metadata": {
        "id": "wati3NeCXbGV"
      }
    },
    {
      "cell_type": "code",
      "source": [
        "!gdown https://drive.google.com/uc?id=1IBScGdW2xlNsc9v5zSAya548kNgiOrko"
      ],
      "metadata": {
        "colab": {
          "base_uri": "https://localhost:8080/"
        },
        "id": "i-KhiMeQXcja",
        "outputId": "9f66ecf4-6959-4281-df69-b543b869b7cf"
      },
      "execution_count": 11,
      "outputs": [
        {
          "output_type": "stream",
          "name": "stdout",
          "text": [
            "Downloading...\n",
            "From: https://drive.google.com/uc?id=1IBScGdW2xlNsc9v5zSAya548kNgiOrko\n",
            "To: /content/P1_data.txt\n",
            "\r  0% 0.00/747 [00:00<?, ?B/s]\r100% 747/747 [00:00<00:00, 3.12MB/s]\n"
          ]
        }
      ]
    },
    {
      "cell_type": "code",
      "source": [
        "sentence = open(\"/content/P1_data.txt\", \"r\")\n",
        "data = sentence.read()\n",
        "sentence.close()\n",
        "\n",
        "data = data.lower()\n",
        "words = data.split()\n",
        "result = {}\n",
        "for word in words:\n",
        "    if word in result:\n",
        "        result[word] += 1\n",
        "    else:\n",
        "        result[word] = 1\n",
        "print(result)\n"
      ],
      "metadata": {
        "colab": {
          "base_uri": "https://localhost:8080/"
        },
        "id": "pmV2LXQHX0Cr",
        "outputId": "4e21008c-5100-4578-cbe3-e6ed53617fdd"
      },
      "execution_count": 19,
      "outputs": [
        {
          "output_type": "stream",
          "name": "stdout",
          "text": [
            "{'he': 1, 'who': 3, 'conquers': 1, 'himself': 1, 'is': 3, 'the': 5, 'mightiest': 1, 'warrior': 1, 'try': 2, 'not': 1, 'to': 3, 'become': 2, 'a': 7, 'man': 6, 'of': 4, 'success': 3, 'but': 1, 'rather': 1, 'value': 1, 'one': 4, 'with': 4, 'courage': 1, 'makes': 1, 'majority': 1, 'secret': 1, 'in': 4, 'life': 2, 'for': 3, 'be': 1, 'ready': 1, 'his': 2, 'opportunity': 1, 'when': 2, 'it': 2, 'comes': 2, 'successful': 2, 'will': 2, 'profit': 1, 'from': 1, 'mistakes': 1, 'and': 1, 'again': 1, 'different': 1, 'way': 1, 'can': 3, 'lay': 1, 'firm': 1, 'foundation': 1, 'bricks': 1, 'others': 1, 'have': 1, 'thrown': 1, 'at': 1, 'him': 1, 'usually': 1, 'those': 1, 'are': 1, 'too': 1, 'busy': 1, 'looking': 1, 'we': 3, 'cannot': 1, 'solve': 1, 'problems': 1, 'kind': 1, 'thinking': 1, 'employed': 1, 'came': 1, 'up': 1, 'them': 1, 'just': 2, 'small': 1, 'positive': 1, 'thought': 1, 'morning': 1, 'change': 1, 'your': 1, 'whole': 1, 'day': 1, 'you': 3, 'get': 2, 'everything': 1, 'want': 2, 'if': 1, 'help': 1, 'enough': 1, 'other': 1, 'people': 1, 'what': 1, 'they': 1}\n"
          ]
        }
      ]
    },
    {
      "cell_type": "code",
      "source": [],
      "metadata": {
        "id": "3BU6tuj0Z99V"
      },
      "execution_count": null,
      "outputs": []
    },
    {
      "cell_type": "code",
      "source": [
        "def max_kernel ( num_list , k ) :\n",
        "    result = []\n",
        "    sub_list = []\n",
        "\n",
        "\n",
        "\n",
        "\n",
        "    for num in num_list:\n",
        "        sub_list.append(num)\n",
        "        if len(sub_list) == k:\n",
        "            result.append(max(sub_list))\n",
        "            del sub_list[0]\n",
        "\n",
        "    return result\n",
        "\n",
        "assert max_kernel ([3 , 4 , 5 , 1 , -44] , 3) == [5 , 5 , 5]\n",
        "num_list = [3 , 4 , 5 , 1 , -44 , 5 ,10 , 12 ,33 , 1]\n",
        "k = 3\n",
        "print ( max_kernel ( num_list , k ) )"
      ],
      "metadata": {
        "colab": {
          "base_uri": "https://localhost:8080/"
        },
        "id": "vCjdq4SPZ-Hs",
        "outputId": "826feb02-b5c5-4a5b-cc75-7a917b5c14f5"
      },
      "execution_count": 22,
      "outputs": [
        {
          "output_type": "stream",
          "name": "stdout",
          "text": [
            "[5, 5, 5, 5, 10, 12, 33, 33]\n"
          ]
        }
      ]
    },
    {
      "source": [
        "def character_count ( word ) :\n",
        "    character_statistic = {}\n",
        "\n",
        "    for char in word:\n",
        "        if char in character_statistic:\n",
        "            character_statistic[char] += 1\n",
        "        else:\n",
        "            character_statistic[char] = 1\n",
        "\n",
        "    return character_statistic\n",
        "assert character_count ('Baby') == {'B': 1 , 'a': 1 , 'b': 1 , 'y': 1}\n",
        "print ( character_count ('smiles') )"
      ],
      "cell_type": "code",
      "metadata": {
        "colab": {
          "base_uri": "https://localhost:8080/"
        },
        "id": "Z5UuCohicXxs",
        "outputId": "fa8cc979-b15e-464a-ec92-0470f905c327"
      },
      "execution_count": 32,
      "outputs": [
        {
          "output_type": "stream",
          "name": "stdout",
          "text": [
            "{'s': 2, 'm': 1, 'i': 1, 'l': 1, 'e': 1}\n"
          ]
        }
      ]
    },
    {
      "cell_type": "code",
      "source": [
        "def my_function ( data , max , min) :\n",
        "    result = []\n",
        "    for i in data :\n",
        "        4 # Your code here\n",
        "        5 # Neu i < min thi them min vao result\n",
        "        if i < min :\n",
        "            result . append ( min )\n",
        "        elif i > max :\n",
        "            result . append ( max )\n",
        "        else :\n",
        "            result . append ( i )\n",
        "    return result\n",
        "my_list = [5 , 2 , 5 , 0 , 1]\n",
        "max = 1\n",
        "min = 0\n",
        "assert my_function (max = max , min = min , data = my_list ) == [1 , 1 , 1 , 0 , 1]\n",
        "my_list = [10 , 2 , 5 , 0 , 1]\n",
        "max = 2\n",
        "min = 1\n",
        "print ( my_function (max = max , min = min , data = my_list ) )"
      ],
      "metadata": {
        "colab": {
          "base_uri": "https://localhost:8080/"
        },
        "id": "3VXlfBtIcjur",
        "outputId": "7e236c02-bd58-4536-a706-d85aa1f4c79a"
      },
      "execution_count": 33,
      "outputs": [
        {
          "output_type": "stream",
          "name": "stdout",
          "text": [
            "[2, 2, 2, 1, 1]\n"
          ]
        }
      ]
    },
    {
      "cell_type": "code",
      "source": [
        "def my_function (x , y ) :\n",
        "    #sử dụng extend\n",
        "    x.extend(y)\n",
        "    return x\n",
        "\n",
        "list_num1 = ['a', 2 , 5]\n",
        "list_num2 = [1 , 1]\n",
        "list_num3 = [0 , 0]\n",
        "\n",
        "assert my_function ( list_num1 , my_function ( list_num2 , list_num3 ) ) == ['a', 2 , 5 , 1 , 1 ,\n",
        "0 , 0]\n",
        "list_num1 = [1 , 2]\n",
        "list_num2 = [3 , 4]\n",
        "list_num3 = [0 , 0]\n",
        "print ( my_function ( list_num1 , my_function ( list_num2 , list_num3 ) ) )"
      ],
      "metadata": {
        "colab": {
          "base_uri": "https://localhost:8080/"
        },
        "id": "f6l4uuPad2S2",
        "outputId": "54d9d36d-7d72-45d9-bf26-fc54a3b04b67"
      },
      "execution_count": 36,
      "outputs": [
        {
          "output_type": "stream",
          "name": "stdout",
          "text": [
            "[1, 2, 3, 4, 0, 0]\n"
          ]
        }
      ]
    },
    {
      "cell_type": "code",
      "source": [
        "def my_function ( n ) :\n",
        "    n.sort()\n",
        "    return n[0]\n",
        "\n",
        "my_list = [1 , 22 , 93 , -100]\n",
        "assert my_function ( my_list ) == -100\n",
        "my_list = [1 , 2 , 3 , -1]\n",
        "print ( my_function ( my_list ) )"
      ],
      "metadata": {
        "colab": {
          "base_uri": "https://localhost:8080/"
        },
        "id": "Uad5bkXHfolv",
        "outputId": "dbeeb6e6-bc8e-4457-8f5d-9949a3774006"
      },
      "execution_count": 43,
      "outputs": [
        {
          "output_type": "stream",
          "name": "stdout",
          "text": [
            "-1\n"
          ]
        }
      ]
    },
    {
      "cell_type": "code",
      "source": [
        "def my_function ( n ) :\n",
        "    n.sort()\n",
        "    return n[-1]\n",
        "\n",
        "my_list = [1001 , 9 , 100 , 0]\n",
        "assert my_function ( my_list ) == 1001\n",
        "my_list = [1 , 9 , 9 , 0]\n",
        "print ( my_function ( my_list ) )"
      ],
      "metadata": {
        "colab": {
          "base_uri": "https://localhost:8080/"
        },
        "id": "Qkg1TVPVhJ-4",
        "outputId": "bba48df5-2f77-4d89-c9ff-0b93317a7eb8"
      },
      "execution_count": 45,
      "outputs": [
        {
          "output_type": "stream",
          "name": "stdout",
          "text": [
            "9\n"
          ]
        }
      ]
    }
  ]
}