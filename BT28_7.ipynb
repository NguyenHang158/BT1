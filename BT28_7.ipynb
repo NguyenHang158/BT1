{
  "nbformat": 4,
  "nbformat_minor": 0,
  "metadata": {
    "colab": {
      "provenance": []
    },
    "kernelspec": {
      "name": "python3",
      "display_name": "Python 3"
    },
    "language_info": {
      "name": "python"
    }
  },
  "cells": [
    {
      "cell_type": "code",
      "execution_count": 24,
      "metadata": {
        "id": "zTp-b7wncQT_",
        "colab": {
          "base_uri": "https://localhost:8080/"
        },
        "outputId": "b88d0cb3-3c77-4cc6-9c9d-7d0ff6a4ceac"
      },
      "outputs": [
        {
          "output_type": "stream",
          "name": "stdout",
          "text": [
            "[['Sunny' 'Hot' 'High' 'Weak' 'no']\n",
            " ['Sunny' 'Hot' 'High' 'Strong' 'no']\n",
            " ['Overcast' 'Hot' 'High' 'Weak' 'yes']\n",
            " ['Rain' 'Mild' 'High' 'Weak' 'yes']\n",
            " ['Rain' 'Cool' 'Normal' 'Weak' 'yes']\n",
            " ['Rain' 'Cool' 'Normal' 'Strong' 'no']\n",
            " ['Overcast' 'Cool' 'Normal' 'Strong' 'yes']\n",
            " ['Overcast' 'Mild' 'High' 'Weak' 'no']\n",
            " ['Sunny' 'Cool' 'Normal' 'Weak' 'yes']\n",
            " ['Rain' 'Mild' 'Normal' 'Weak' 'yes']]\n"
          ]
        }
      ],
      "source": [
        "import numpy as np\n",
        "\n",
        "def create_train_data():\n",
        "  data=[['Sunny','Hot', 'High', 'Weak', 'no'],\n",
        "        ['Sunny','Hot', 'High', 'Strong', 'no'],\n",
        "        ['Overcast','Hot', 'High', 'Weak', 'yes'],\n",
        "        ['Rain','Mild', 'High', 'Weak', 'yes'],\n",
        "        ['Rain','Cool', 'Normal', 'Weak', 'yes'],\n",
        "        ['Rain','Cool', 'Normal', 'Strong', 'no'],\n",
        "        ['Overcast','Cool', 'Normal', 'Strong', 'yes'],\n",
        "        ['Overcast','Mild', 'High', 'Weak', 'no'],\n",
        "        ['Sunny','Cool', 'Normal', 'Weak', 'yes'],\n",
        "        ['Rain','Mild', 'Normal', 'Weak', 'yes']\n",
        "        ]\n",
        "  return np.array(data)\n",
        "\n",
        "train_data = create_train_data()\n",
        "print(train_data)"
      ]
    },
    {
      "cell_type": "code",
      "source": [
        "def compute_prior_probablity(train_data):\n",
        "  y_unique = ['no', 'yes']\n",
        "  prior_probability = np.zeros(len(y_unique))\n",
        "  for i in range(0,len(y_unique)):\n",
        "    prior_probability[i]=len(np.where(train_data[:,4] == y_unique[i])[0])/len(train_data)\n",
        "  return prior_probability\n",
        "\n",
        "prior_probablity = compute_prior_probablity(train_data)\n",
        "print(\"P(“Play Tennis” = No)\", prior_probablity[0])\n",
        "print(\"P(“Play Tennis” = Yes)\", prior_probablity[1])"
      ],
      "metadata": {
        "colab": {
          "base_uri": "https://localhost:8080/"
        },
        "id": "GGzG7kRtGoVB",
        "outputId": "386a7e10-2f0d-4088-d752-5d6d17ad4886"
      },
      "execution_count": 25,
      "outputs": [
        {
          "output_type": "stream",
          "name": "stdout",
          "text": [
            "P(“Play Tennis” = No) 0.4\n",
            "P(“Play Tennis” = Yes) 0.6\n"
          ]
        }
      ]
    },
    {
      "cell_type": "code",
      "source": [
        "def compute_conditional_probability(train_data):\n",
        "  y_unique = ['no', 'yes']\n",
        "  conditional_probability = []\n",
        "  list_x_name = []\n",
        "  for i in range(0,train_data.shape[1]-1):\n",
        "    x_unique = np.unique(train_data[:,i])\n",
        "    print(\"x_unique\", x_unique)\n",
        "\n",
        "    list_x_name.append(x_unique)\n",
        "\n",
        "    x_conditional_probability = np.zeros((len(y_unique),len(x_unique)))\n",
        "    for j in range(0,len(y_unique)):\n",
        "      for k in range(0,len(x_unique)):\n",
        "        x_conditional_probability[j,k]= len(np.where((train_data[:,i] == x_unique[k]) & (train_data[:,4] == y_unique[j]))[0])/len(np.where(train_data[:,4] == y_unique[j])[0])\n",
        "\n",
        "    conditional_probability.append(x_conditional_probability)\n",
        "  return conditional_probability, list_x_name"
      ],
      "metadata": {
        "id": "MVM0ZyNp5g-x"
      },
      "execution_count": 32,
      "outputs": []
    },
    {
      "cell_type": "code",
      "source": [
        "train_data = create_train_data()\n",
        "_, list_x_name  = compute_conditional_probability(train_data)\n",
        "print(\"x1 = \",list_x_name[0])\n",
        "print(\"x2 = \",list_x_name[1])\n",
        "print(\"x3 = \",list_x_name[2])\n",
        "print(\"x4 = \",list_x_name[3])"
      ],
      "metadata": {
        "colab": {
          "base_uri": "https://localhost:8080/"
        },
        "id": "ud4-2SAFHkU_",
        "outputId": "9089dd6f-747d-423f-c1a7-2c3d51ba46e2"
      },
      "execution_count": 33,
      "outputs": [
        {
          "output_type": "stream",
          "name": "stdout",
          "text": [
            "x_unique ['Overcast' 'Rain' 'Sunny']\n",
            "x_unique ['Cool' 'Hot' 'Mild']\n",
            "x_unique ['High' 'Normal']\n",
            "x_unique ['Strong' 'Weak']\n",
            "x1 =  ['Overcast' 'Rain' 'Sunny']\n",
            "x2 =  ['Cool' 'Hot' 'Mild']\n",
            "x3 =  ['High' 'Normal']\n",
            "x4 =  ['Strong' 'Weak']\n"
          ]
        }
      ]
    },
    {
      "cell_type": "code",
      "source": [
        "def train_naive_bayes(train_data):\n",
        "    prior_probability = compute_prior_probablity(train_data)\n",
        "    conditional_probability, list_x_name  = compute_conditional_probability(train_data)\n",
        "    return prior_probability,conditional_probability, list_x_name\n",
        "\n",
        "data = create_train_data()\n",
        "prior_probability,conditional_probability, list_x_name = train_naive_bayes(data)"
      ],
      "metadata": {
        "colab": {
          "base_uri": "https://localhost:8080/"
        },
        "id": "PDXyPUTCINOo",
        "outputId": "ae74fd60-bdd4-476d-a556-dc5bec323c93"
      },
      "execution_count": 34,
      "outputs": [
        {
          "output_type": "stream",
          "name": "stdout",
          "text": [
            "x_unique ['Overcast' 'Rain' 'Sunny']\n",
            "x_unique ['Cool' 'Hot' 'Mild']\n",
            "x_unique ['High' 'Normal']\n",
            "x_unique ['Strong' 'Weak']\n"
          ]
        }
      ]
    },
    {
      "cell_type": "code",
      "source": [
        "def get_index_from_value(feature_name, list_features):\n",
        "  return np.where(list_features == feature_name)[0][0]"
      ],
      "metadata": {
        "id": "5xcERX2iIV4e"
      },
      "execution_count": 35,
      "outputs": []
    },
    {
      "cell_type": "code",
      "source": [
        "train_data = create_train_data()\n",
        "_, list_x_name  = compute_conditional_probability(train_data)\n",
        "outlook = list_x_name[0]\n",
        "i1 = get_index_from_value(\"Overcast\", outlook)\n",
        "i2 = get_index_from_value(\"Rain\", outlook)\n",
        "i3 = get_index_from_value(\"Sunny\", outlook)\n",
        "\n",
        "print(i1, i2, i3)"
      ],
      "metadata": {
        "colab": {
          "base_uri": "https://localhost:8080/"
        },
        "id": "hFWoZ6eOIbI-",
        "outputId": "40e585f0-4ffa-4421-e4df-fb42c3bf4ddc"
      },
      "execution_count": 36,
      "outputs": [
        {
          "output_type": "stream",
          "name": "stdout",
          "text": [
            "x_unique ['Overcast' 'Rain' 'Sunny']\n",
            "x_unique ['Cool' 'Hot' 'Mild']\n",
            "x_unique ['High' 'Normal']\n",
            "x_unique ['Strong' 'Weak']\n",
            "0 1 2\n"
          ]
        }
      ]
    },
    {
      "cell_type": "code",
      "source": [
        "train_data = create_train_data()\n",
        "conditional_probability, list_x_name  = compute_conditional_probability(train_data)\n",
        "x1=get_index_from_value(\"Sunny\",list_x_name[0])\n",
        "print(\"P('Outlook'='Sunny'|Play Tennis'='Yes') = \", np.round(conditional_probability[0][1, x1],2))"
      ],
      "metadata": {
        "colab": {
          "base_uri": "https://localhost:8080/"
        },
        "id": "V0pV0F2tIlAG",
        "outputId": "c1486fd6-3646-4892-dd07-073ac9504bd9"
      },
      "execution_count": 37,
      "outputs": [
        {
          "output_type": "stream",
          "name": "stdout",
          "text": [
            "x_unique ['Overcast' 'Rain' 'Sunny']\n",
            "x_unique ['Cool' 'Hot' 'Mild']\n",
            "x_unique ['High' 'Normal']\n",
            "x_unique ['Strong' 'Weak']\n",
            "P('Outlook'='Sunny'|Play Tennis'='Yes') =  0.17\n"
          ]
        }
      ]
    },
    {
      "cell_type": "code",
      "source": [
        "train_data = create_train_data()\n",
        "conditional_probability, list_x_name  = compute_conditional_probability(train_data)\n",
        "x1=get_index_from_value(\"Sunny\",list_x_name[0])\n",
        "print(\"P('Outlook'='Sunny'|Play Tennis'='No') = \", np.round(conditional_probability[0][0, x1],2))"
      ],
      "metadata": {
        "colab": {
          "base_uri": "https://localhost:8080/"
        },
        "id": "v8pdvlZQIlHO",
        "outputId": "ddb2dc0d-dc2f-44bb-a909-f3dbdab405df"
      },
      "execution_count": 38,
      "outputs": [
        {
          "output_type": "stream",
          "name": "stdout",
          "text": [
            "x_unique ['Overcast' 'Rain' 'Sunny']\n",
            "x_unique ['Cool' 'Hot' 'Mild']\n",
            "x_unique ['High' 'Normal']\n",
            "x_unique ['Strong' 'Weak']\n",
            "P('Outlook'='Sunny'|Play Tennis'='No') =  0.5\n"
          ]
        }
      ]
    },
    {
      "cell_type": "code",
      "source": [
        "def prediction_play_tennis(X, list_x_name, prior_probability, conditional_probability):\n",
        "    x1=get_index_from_value(X[0],list_x_name[0])\n",
        "    x2=get_index_from_value(X[1],list_x_name[1])\n",
        "    x3=get_index_from_value(X[2],list_x_name[2])\n",
        "    x4=get_index_from_value(X[3],list_x_name[3])\n",
        "\n",
        "    p0=prior_probability[0] \\\n",
        "    *conditional_probability[0][0,x1] \\\n",
        "    *conditional_probability[1][0,x2] \\\n",
        "    *conditional_probability[2][0,x3] \\\n",
        "    *conditional_probability[3][0,x4]\n",
        "\n",
        "    p1=prior_probability[1]\\\n",
        "    *conditional_probability[0][1,x1]\\\n",
        "    *conditional_probability[1][1,x2]\\\n",
        "    *conditional_probability[2][1,x3]\\\n",
        "    *conditional_probability[3][1,x4]\n",
        "\n",
        "    if p0>p1:\n",
        "        y_pred=0\n",
        "    else:\n",
        "        y_pred=1\n",
        "\n",
        "    return y_pred"
      ],
      "metadata": {
        "id": "HykasjAgIlKx"
      },
      "execution_count": 39,
      "outputs": []
    },
    {
      "cell_type": "code",
      "source": [
        "X = ['Sunny','Cool', 'High', 'Strong']\n",
        "data = create_train_data()\n",
        "prior_probability,conditional_probability, list_x_name = train_naive_bayes(data)\n",
        "pred =  prediction_play_tennis(X, list_x_name, prior_probability, conditional_probability)\n",
        "\n",
        "if(pred):\n",
        "  print(\"Ad should go!\")\n",
        "else:\n",
        "  print(\"Ad should not go!\")"
      ],
      "metadata": {
        "colab": {
          "base_uri": "https://localhost:8080/"
        },
        "id": "4BTtnAptIlNr",
        "outputId": "d0986504-44e4-4911-b5c1-983f11129de1"
      },
      "execution_count": 40,
      "outputs": [
        {
          "output_type": "stream",
          "name": "stdout",
          "text": [
            "x_unique ['Overcast' 'Rain' 'Sunny']\n",
            "x_unique ['Cool' 'Hot' 'Mild']\n",
            "x_unique ['High' 'Normal']\n",
            "x_unique ['Strong' 'Weak']\n",
            "Ad should not go!\n"
          ]
        }
      ]
    },
    {
      "cell_type": "code",
      "source": [],
      "metadata": {
        "id": "6Jekp1jFIlQz"
      },
      "execution_count": null,
      "outputs": []
    }
  ]
}