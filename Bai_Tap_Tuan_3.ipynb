{
  "nbformat": 4,
  "nbformat_minor": 0,
  "metadata": {
    "colab": {
      "provenance": []
    },
    "kernelspec": {
      "name": "python3",
      "display_name": "Python 3"
    },
    "language_info": {
      "name": "python"
    }
  },
  "cells": [
    {
      "cell_type": "markdown",
      "source": [
        "Bai 1"
      ],
      "metadata": {
        "id": "rGH2uL-SXtJf"
      }
    },
    {
      "cell_type": "code",
      "source": [
        "import torch\n",
        "import torch.nn as nn"
      ],
      "metadata": {
        "id": "0L9E6Mm1XtmE"
      },
      "execution_count": 5,
      "outputs": []
    },
    {
      "cell_type": "code",
      "execution_count": 6,
      "metadata": {
        "colab": {
          "base_uri": "https://localhost:8080/"
        },
        "id": "GhNrCO07Xkdo",
        "outputId": "2c454e57-a3c7-4058-8cc2-d6649b2f742e"
      },
      "outputs": [
        {
          "output_type": "execute_result",
          "data": {
            "text/plain": [
              "tensor([1., 2., 3.])"
            ]
          },
          "metadata": {},
          "execution_count": 6
        }
      ],
      "source": [
        "data = torch.Tensor([1, 2, 3]) #lam viec vs Torch phai chuyen sang kieu du lieu cua Torch la Tensor\n",
        "data"
      ]
    },
    {
      "cell_type": "code",
      "source": [
        "softmax_function = nn.Softmax(dim=0)#1 list tuong ung voi mang 1 chieu, dim se the hien chieu, chieu o day = 0\n",
        "output = softmax_function(data)#KQ: e^1/(e^1+e^2+e3)....\n",
        "output"
      ],
      "metadata": {
        "colab": {
          "base_uri": "https://localhost:8080/"
        },
        "id": "5AywAvxCXrAn",
        "outputId": "835d74b1-3090-4ef5-c07c-0735789ccc70"
      },
      "execution_count": 7,
      "outputs": [
        {
          "output_type": "execute_result",
          "data": {
            "text/plain": [
              "tensor([0.0900, 0.2447, 0.6652])"
            ]
          },
          "metadata": {},
          "execution_count": 7
        }
      ]
    },
    {
      "cell_type": "code",
      "source": [
        "class MySoftmax(nn.Module):\n",
        "    def __init__(self):\n",
        "        super().__init__()\n",
        "\n",
        "    def forward(self, x):\n",
        "        x_exp = torch.exp(x) / torch.sum(torch.exp(x), dim=0)\n",
        "        total = x_exp.sum(0, keepdim=True)#0 la mang 1 chieu, keepdim=True tra ve KQ mang 1 chieu\n",
        "        return x_exp / total\n",
        "\n",
        "my_softmax = MySoftmax()\n",
        "output = my_softmax(data)\n",
        "output"
      ],
      "metadata": {
        "colab": {
          "base_uri": "https://localhost:8080/"
        },
        "id": "gYlFryrBXrDO",
        "outputId": "ca45037b-6d88-41e2-97bd-71e5ab4ef45c"
      },
      "execution_count": 9,
      "outputs": [
        {
          "output_type": "execute_result",
          "data": {
            "text/plain": [
              "tensor([0.0900, 0.2447, 0.6652])"
            ]
          },
          "metadata": {},
          "execution_count": 9
        }
      ]
    },
    {
      "cell_type": "code",
      "source": [
        "class StableSoftmax(nn.Module):\n",
        "    def __init__(self):\n",
        "        super().__init__()\n",
        "\n",
        "    def forward(self, x):\n",
        "        c =  torch.max(x, dim=0)#tinh max\n",
        "        x_exp = torch.exp(x - c.values)\n",
        "        total = x_exp.sum(0, keepdim=True)\n",
        "        return x_exp / total\n",
        "\n",
        "stable_softmax = StableSoftmax()\n",
        "output = stable_softmax(data)\n",
        "output"
      ],
      "metadata": {
        "colab": {
          "base_uri": "https://localhost:8080/"
        },
        "id": "RWl2TAWNXrJE",
        "outputId": "e534ae1e-df0e-4695-e20f-75b6c5417f04"
      },
      "execution_count": 10,
      "outputs": [
        {
          "output_type": "execute_result",
          "data": {
            "text/plain": [
              "tensor([0.0900, 0.2447, 0.6652])"
            ]
          },
          "metadata": {},
          "execution_count": 10
        }
      ]
    },
    {
      "cell_type": "markdown",
      "source": [
        "Bai 2"
      ],
      "metadata": {
        "id": "FpJ80aSKkG7e"
      }
    },
    {
      "cell_type": "code",
      "source": [
        "from abc import ABC, abstractmethod\n",
        "class Person(ABC):\n",
        "    def __init__(self, name, yob):\n",
        "        self._name = name\n",
        "        self._yob = yob\n",
        "\n",
        "    @abstractmethod\n",
        "    def describe(self):\n",
        "        pass\n",
        "\n",
        "    def get_yob(self):\n",
        "        return self._yob\n",
        "\n",
        "class Student(Person):\n",
        "    def __init__(self, name, yob, grade):\n",
        "        super().__init__(name, yob)\n",
        "        self._grade = grade\n",
        "\n",
        "    def describe(self):\n",
        "        print(f\"Student - Name: {self._name} - Yob: {self._yob} - Grade {self._grade}\")\n",
        "\n",
        "class Teacher(Person):\n",
        "    def __init__(self, name, yob, subject):\n",
        "        super().__init__(name, yob)\n",
        "        self._subject = subject\n",
        "\n",
        "    def describe(self):\n",
        "        print(f\"Teacher - Name: {self._name} - Yob: {self._yob} - Subject {self._subject}\")\n",
        "\n",
        "class Doctor(Person):\n",
        "    def __init__(self, name, yob, specialist):\n",
        "        super().__init__(name, yob)\n",
        "        self._specialist = specialist\n",
        "\n",
        "    def describe(self):\n",
        "        print(f\"Doctor - Name: {self._name} - Yob: {self._yob} - Specialist {self._specialist}\")"
      ],
      "metadata": {
        "id": "LIhaMJLNlN4X"
      },
      "execution_count": 69,
      "outputs": []
    },
    {
      "cell_type": "code",
      "source": [
        "student1 = Student('A', 2000, 10)\n",
        "student1.describe()\n",
        "teacher1 = Teacher('B', 1990, 'Math')\n",
        "teacher1.describe()\n",
        "doctor1 = Doctor('C', 1980, 'Neurology')\n",
        "doctor1.describe()\n",
        "tearcher2 = Teacher('D', 1995, 'Physics')\n",
        "tearcher2.describe()"
      ],
      "metadata": {
        "colab": {
          "base_uri": "https://localhost:8080/"
        },
        "id": "WoSjgIlJlzmx",
        "outputId": "cf14df66-f72f-4db2-af65-b2fba3bb57dd"
      },
      "execution_count": 70,
      "outputs": [
        {
          "output_type": "stream",
          "name": "stdout",
          "text": [
            "Student - Name: A - Yob: 2000 - Grade 10\n",
            "Teacher - Name: B - Yob: 1990 - Subject Math\n",
            "Doctor - Name: C - Yob: 1980 - Specialist Neurology\n",
            "Teacher - Name: D - Yob: 1995 - Subject Physics\n"
          ]
        }
      ]
    },
    {
      "cell_type": "code",
      "source": [
        "class Ward:\n",
        "    def __init__(self, name):\n",
        "        self.__name = name\n",
        "        self.__list_people = []\n",
        "\n",
        "    def add_person(self, person: Person):\n",
        "        self.__list_people.append(person)\n",
        "\n",
        "    def describe(self):\n",
        "        print(f'Name: {self.__name}')\n",
        "        for p in self.__list_people:\n",
        "            p.describe()\n",
        "\n",
        "    def count_doctors(self):\n",
        "        counter = 0\n",
        "        for p in self.__list_people:\n",
        "            if isinstance(p, Doctor):\n",
        "                counter += 1\n",
        "        return counter\n",
        "\n",
        "    def sort_yob(self):\n",
        "        self.__list_people.sort(key=lambda x: x.get_yob(), reverse=True)#key: thong tin so sanh\n",
        "\n",
        "    def compute_average(self):\n",
        "        total = 0\n",
        "        for p in self.__list_people:\n",
        "            total += p.get_yob()\n",
        "        return total / len(self.__list_people)\n",
        "\n",
        "    def compute_average_teacher(self):\n",
        "        counter = 0\n",
        "        total = 0\n",
        "        for p in self.__list_people:\n",
        "            if isinstance(p, Teacher):\n",
        "                counter += 1\n",
        "                total += p.get_yob()\n",
        "        return total / counter\n"
      ],
      "metadata": {
        "id": "z-e5u2YJXrN1"
      },
      "execution_count": 82,
      "outputs": []
    },
    {
      "cell_type": "code",
      "source": [
        "ward1 = Ward('Ward1')\n",
        "ward1.add_person(student1)\n",
        "ward1.add_person(teacher1)\n",
        "ward1.add_person(doctor1)\n",
        "ward1.add_person(tearcher2)"
      ],
      "metadata": {
        "id": "OT0_fB4xjw6G"
      },
      "execution_count": 84,
      "outputs": []
    },
    {
      "cell_type": "code",
      "source": [
        "ward1.describe()"
      ],
      "metadata": {
        "colab": {
          "base_uri": "https://localhost:8080/"
        },
        "id": "sbVHUTm3jw9V",
        "outputId": "9262560c-2ed9-4f5c-bf4f-a86a84a8f494"
      },
      "execution_count": 85,
      "outputs": [
        {
          "output_type": "stream",
          "name": "stdout",
          "text": [
            "Name: Ward1\n",
            "Student - Name: A - Yob: 2000 - Grade 10\n",
            "Teacher - Name: B - Yob: 1990 - Subject Math\n",
            "Doctor - Name: C - Yob: 1980 - Specialist Neurology\n",
            "Teacher - Name: D - Yob: 1995 - Subject Physics\n"
          ]
        }
      ]
    },
    {
      "cell_type": "code",
      "source": [
        "ward1.count_doctors()"
      ],
      "metadata": {
        "colab": {
          "base_uri": "https://localhost:8080/"
        },
        "id": "ABTJhMXwjxAd",
        "outputId": "3b1e45a2-a4a9-41f8-bc38-4e635a7a17b8"
      },
      "execution_count": 86,
      "outputs": [
        {
          "output_type": "execute_result",
          "data": {
            "text/plain": [
              "1"
            ]
          },
          "metadata": {},
          "execution_count": 86
        }
      ]
    },
    {
      "cell_type": "code",
      "source": [
        "ward1.sort_yob()"
      ],
      "metadata": {
        "id": "wE3U7G_vXrQl"
      },
      "execution_count": 87,
      "outputs": []
    },
    {
      "cell_type": "code",
      "source": [
        "ward1.describe()"
      ],
      "metadata": {
        "colab": {
          "base_uri": "https://localhost:8080/"
        },
        "id": "zsJED3J3XrTH",
        "outputId": "7792d6d8-d44b-41e6-d75b-9e61d5fe9015"
      },
      "execution_count": 88,
      "outputs": [
        {
          "output_type": "stream",
          "name": "stdout",
          "text": [
            "Name: Ward1\n",
            "Student - Name: A - Yob: 2000 - Grade 10\n",
            "Teacher - Name: D - Yob: 1995 - Subject Physics\n",
            "Teacher - Name: B - Yob: 1990 - Subject Math\n",
            "Doctor - Name: C - Yob: 1980 - Specialist Neurology\n"
          ]
        }
      ]
    },
    {
      "cell_type": "code",
      "source": [
        "ward1.compute_average()"
      ],
      "metadata": {
        "colab": {
          "base_uri": "https://localhost:8080/"
        },
        "id": "5E_9w4yFXrV0",
        "outputId": "95cf160d-3bbf-49ef-98cd-2bc4cec309ff"
      },
      "execution_count": 89,
      "outputs": [
        {
          "output_type": "execute_result",
          "data": {
            "text/plain": [
              "1991.25"
            ]
          },
          "metadata": {},
          "execution_count": 89
        }
      ]
    },
    {
      "cell_type": "code",
      "source": [
        "ward1.compute_average_teacher()"
      ],
      "metadata": {
        "colab": {
          "base_uri": "https://localhost:8080/"
        },
        "id": "_bJJy5hhXrY4",
        "outputId": "78c0eebd-e119-4fd9-f4d9-b54c5c5a9689"
      },
      "execution_count": 90,
      "outputs": [
        {
          "output_type": "execute_result",
          "data": {
            "text/plain": [
              "1992.5"
            ]
          },
          "metadata": {},
          "execution_count": 90
        }
      ]
    },
    {
      "cell_type": "markdown",
      "source": [
        "Bai 3"
      ],
      "metadata": {
        "id": "vM8bZ4w5uA5u"
      }
    },
    {
      "cell_type": "code",
      "source": [
        "class MyStack:\n",
        "    def __init__(self, capacity):\n",
        "        self.__capacity = capacity\n",
        "        self.__stack = []\n",
        "\n",
        "    def is_empty(self):\n",
        "        return len(self.__stack) == 0\n",
        "\n",
        "    def is_full(self):\n",
        "        return len(self.__stack) == self.__capacity\n",
        "\n",
        "    def push(self, item):\n",
        "        if self.is_full():\n",
        "            raise Exception(\"Stack is full\")\n",
        "        self.__stack.append(item)\n",
        "\n",
        "    def pop(self):\n",
        "        if self.is_empty():\n",
        "            raise Exception(\"Stack is empty\")\n",
        "        return self.__stack.pop()\n",
        "\n",
        "    def top(self):\n",
        "        if self.is_empty():\n",
        "            return \"Stack is empty\"\n",
        "        return self.__stack[-1]"
      ],
      "metadata": {
        "id": "2OE1mVYyXrb1"
      },
      "execution_count": 108,
      "outputs": []
    },
    {
      "cell_type": "code",
      "source": [
        "my_stack = MyStack(3)\n",
        "my_stack.is_empty()\n",
        "my_stack.push(1)\n",
        "my_stack.push(2)\n",
        "my_stack.push(3)"
      ],
      "metadata": {
        "id": "ITH4y1fLXre5"
      },
      "execution_count": 109,
      "outputs": []
    },
    {
      "cell_type": "code",
      "source": [
        "my_stack.pop()"
      ],
      "metadata": {
        "colab": {
          "base_uri": "https://localhost:8080/"
        },
        "id": "gSBMMF3wXrl9",
        "outputId": "2bfc55df-f001-48ac-e989-e97d5a014064"
      },
      "execution_count": 111,
      "outputs": [
        {
          "output_type": "execute_result",
          "data": {
            "text/plain": [
              "3"
            ]
          },
          "metadata": {},
          "execution_count": 111
        }
      ]
    },
    {
      "cell_type": "code",
      "source": [
        "my_stack.top()"
      ],
      "metadata": {
        "colab": {
          "base_uri": "https://localhost:8080/"
        },
        "id": "60ZNfb9Uwx42",
        "outputId": "db192337-9b4f-457e-8511-8fc93e8f8b24"
      },
      "execution_count": 112,
      "outputs": [
        {
          "output_type": "execute_result",
          "data": {
            "text/plain": [
              "2"
            ]
          },
          "metadata": {},
          "execution_count": 112
        }
      ]
    },
    {
      "cell_type": "markdown",
      "source": [
        "Bai 4"
      ],
      "metadata": {
        "id": "rDgcZFeGw8Yz"
      }
    },
    {
      "cell_type": "code",
      "source": [
        "class MyQueue:\n",
        "    def __init__(self, capacity):\n",
        "        self.__capacity = capacity\n",
        "        self.__queue = []\n",
        "\n",
        "    def is_empty(self):\n",
        "        return len(self.__queue) == 0\n",
        "\n",
        "    def is_full(self):\n",
        "        return len(self.__queue) == self.__capacity\n",
        "\n",
        "    def enqueue(self, item):\n",
        "        if self.is_full():\n",
        "            raise Exception(\"Queue is full\")\n",
        "        self.__queue.append(item)\n",
        "\n",
        "    def dequeue(self):\n",
        "        if self.is_empty():\n",
        "            raise Exception(\"Queue is empty\")\n",
        "        self.__queue.pop(0)\n",
        "\n",
        "    def front(self):\n",
        "        if self.is_empty():\n",
        "            print(\"Queue is empty\")\n",
        "            return\n",
        "        return self.__queue[0]"
      ],
      "metadata": {
        "id": "We68v3Pcwx8O"
      },
      "execution_count": 114,
      "outputs": []
    },
    {
      "cell_type": "code",
      "source": [
        "my_queue = MyQueue(3)\n",
        "my_queue.is_empty()\n",
        "my_queue.enqueue(4)\n",
        "my_queue.enqueue(1)\n",
        "my_queue.enqueue(2)"
      ],
      "metadata": {
        "id": "GYpMW_o0w-Fl"
      },
      "execution_count": 125,
      "outputs": []
    },
    {
      "cell_type": "code",
      "source": [
        "my_queue.is_full()"
      ],
      "metadata": {
        "colab": {
          "base_uri": "https://localhost:8080/"
        },
        "id": "md5cWEdIwyFd",
        "outputId": "71b1efa3-3ef4-4eae-87f7-e0714e4b9c55"
      },
      "execution_count": 126,
      "outputs": [
        {
          "output_type": "execute_result",
          "data": {
            "text/plain": [
              "True"
            ]
          },
          "metadata": {},
          "execution_count": 126
        }
      ]
    },
    {
      "cell_type": "code",
      "source": [
        "my_queue.dequeue()"
      ],
      "metadata": {
        "id": "9M-RKf4BytV4"
      },
      "execution_count": 127,
      "outputs": []
    },
    {
      "cell_type": "code",
      "source": [
        "my_queue.front()"
      ],
      "metadata": {
        "colab": {
          "base_uri": "https://localhost:8080/"
        },
        "id": "kIIj9fv0ytef",
        "outputId": "3296cbde-ce32-4e09-c995-1c15ad6857df"
      },
      "execution_count": 128,
      "outputs": [
        {
          "output_type": "execute_result",
          "data": {
            "text/plain": [
              "1"
            ]
          },
          "metadata": {},
          "execution_count": 128
        }
      ]
    },
    {
      "cell_type": "markdown",
      "source": [],
      "metadata": {
        "id": "xHSjv9nZzfMh"
      }
    },
    {
      "cell_type": "markdown",
      "source": [],
      "metadata": {
        "id": "pPC01AaEzfXZ"
      }
    },
    {
      "cell_type": "code",
      "source": [
        "import torch\n",
        "import torch.nn as nn\n",
        "data = torch.Tensor([1, 2, 3])\n",
        "softmax_function = nn.Softmax(dim=0)\n",
        "output = softmax_function(data)\n",
        "assert round ( output [0]. item () , 2) == 0.09\n",
        "output"
      ],
      "metadata": {
        "colab": {
          "base_uri": "https://localhost:8080/"
        },
        "id": "2efVezkpzfzv",
        "outputId": "0ea95649-307c-41a8-e2d0-742bdd6ff8fc"
      },
      "execution_count": 129,
      "outputs": [
        {
          "output_type": "execute_result",
          "data": {
            "text/plain": [
              "tensor([0.0900, 0.2447, 0.6652])"
            ]
          },
          "metadata": {},
          "execution_count": 129
        }
      ]
    },
    {
      "cell_type": "code",
      "source": [
        "class MySoftmax(nn.Module):\n",
        "    def __init__(self):\n",
        "        super().__init__()\n",
        "\n",
        "    def forward(self, x):\n",
        "        x_exp = torch.exp(x) / torch.sum(torch.exp(x), dim=0)\n",
        "        total = x_exp.sum(0, keepdim=True)#0 la mang 1 chieu, keepdim=True tra ve KQ mang 1 chieu\n",
        "        return x_exp / total\n",
        "\n",
        "data = torch . Tensor ([5 , 2 , 4])\n",
        "my_softmax = MySoftmax ()\n",
        "output = my_softmax ( data )\n",
        "assert round ( output [ -1]. item () , 2) == 0.26\n",
        "output"
      ],
      "metadata": {
        "colab": {
          "base_uri": "https://localhost:8080/"
        },
        "id": "tb06qHow0NRe",
        "outputId": "4d72b898-93b4-42e8-9d74-72af8390a520"
      },
      "execution_count": 149,
      "outputs": [
        {
          "output_type": "execute_result",
          "data": {
            "text/plain": [
              "tensor([0.7054, 0.0351, 0.2595])"
            ]
          },
          "metadata": {},
          "execution_count": 149
        }
      ]
    },
    {
      "cell_type": "code",
      "source": [
        "class MySoftmax(nn.Module):\n",
        "    def __init__(self):\n",
        "        super().__init__()\n",
        "\n",
        "    def forward(self, x):\n",
        "        x_exp = torch.exp(x) / torch.sum(torch.exp(x), dim=0)\n",
        "        total = x_exp.sum(0, keepdim=True)#0 la mang 1 chieu, keepdim=True tra ve KQ mang 1 chieu\n",
        "        return x_exp / total\n",
        "\n",
        "data = torch . Tensor ([1 , 2 , 300000000])\n",
        "my_softmax = MySoftmax ()\n",
        "output = my_softmax ( data )\n",
        "#assert round ( output [0]. item () , 2) == 0.0\n",
        "output"
      ],
      "metadata": {
        "colab": {
          "base_uri": "https://localhost:8080/"
        },
        "id": "f0-pzPHc0g39",
        "outputId": "292ff2e1-23b7-4360-90a3-5428e0b7f849"
      },
      "execution_count": 151,
      "outputs": [
        {
          "output_type": "execute_result",
          "data": {
            "text/plain": [
              "tensor([nan, nan, nan])"
            ]
          },
          "metadata": {},
          "execution_count": 151
        }
      ]
    },
    {
      "cell_type": "code",
      "source": [
        "\n",
        "class SoftmaxStable(nn.Module):\n",
        "    def __init__(self):\n",
        "        super().__init__()\n",
        "\n",
        "    def forward(self, x):\n",
        "        c =  torch.max(x, dim=0)#tinh max\n",
        "        x_exp = torch.exp(x - c.values)\n",
        "        total = x_exp.sum(0, keepdim=True)\n",
        "        return x_exp / total\n",
        "\n",
        "data = torch . Tensor ([1 , 2 , 3])\n",
        "softmax_stable = SoftmaxStable ()\n",
        "output = softmax_stable ( data )\n",
        "assert round ( output [ -1]. item () , 2) == 0.67\n",
        "output"
      ],
      "metadata": {
        "colab": {
          "base_uri": "https://localhost:8080/"
        },
        "id": "42_-sNMD1I32",
        "outputId": "df7bbe79-4904-4212-a7cf-78536e168d01"
      },
      "execution_count": 134,
      "outputs": [
        {
          "output_type": "execute_result",
          "data": {
            "text/plain": [
              "tensor([0.0900, 0.2447, 0.6652])"
            ]
          },
          "metadata": {},
          "execution_count": 134
        }
      ]
    },
    {
      "cell_type": "code",
      "source": [
        "from abc import ABC, abstractmethod\n",
        "class Person(ABC):\n",
        "    def __init__(self, name, yob):\n",
        "        self._name = name\n",
        "        self._yob = yob\n",
        "\n",
        "    @abstractmethod\n",
        "    def describe(self):\n",
        "        pass\n",
        "\n",
        "    def get_yob(self):\n",
        "        return self._yob\n",
        "\n",
        "class Student(Person):\n",
        "    def __init__(self, name, yob, grade):\n",
        "        super().__init__(name, yob)\n",
        "        self._grade = grade\n",
        "\n",
        "    def describe(self):\n",
        "        print(f\"Student - Name: {self._name} - Yob: {self._yob} - Grade {self._grade}\")\n",
        "\n",
        "class Teacher(Person):\n",
        "    def __init__(self, name, yob, subject):\n",
        "        super().__init__(name, yob)\n",
        "        self._subject = subject\n",
        "\n",
        "    def describe(self):\n",
        "        print(f\"Teacher - Name: {self._name} - Yob: {self._yob} - Subject {self._subject}\")\n",
        "\n",
        "class Doctor(Person):\n",
        "    def __init__(self, name, yob, specialist):\n",
        "        super().__init__(name, yob)\n",
        "        self._specialist = specialist\n",
        "\n",
        "    def describe(self):\n",
        "        print(f\"Doctor - Name: {self._name} - Yob: {self._yob} - Specialist {self._specialist}\")"
      ],
      "metadata": {
        "id": "KoUjclHU1u3K"
      },
      "execution_count": 135,
      "outputs": []
    },
    {
      "cell_type": "code",
      "source": [
        "student1 = Student ( name =\" studentZ2023 \", yob =2011 , grade =\"6\")\n",
        "assert student1 . _yob == 2011\n",
        "student1 . describe ()"
      ],
      "metadata": {
        "colab": {
          "base_uri": "https://localhost:8080/"
        },
        "id": "ioc7FVwa12Vh",
        "outputId": "afd4da1e-2153-4275-e393-21b0744aa54e"
      },
      "execution_count": 136,
      "outputs": [
        {
          "output_type": "stream",
          "name": "stdout",
          "text": [
            "Student - Name:  studentZ2023  - Yob: 2011 - Grade 6\n"
          ]
        }
      ]
    },
    {
      "cell_type": "code",
      "source": [
        "teacher1 = Teacher ( name =\" teacherZ2023 \", yob =1991 , subject =\" History \")\n",
        "assert teacher1 . _yob == 1991\n",
        "teacher1 . describe ()"
      ],
      "metadata": {
        "colab": {
          "base_uri": "https://localhost:8080/"
        },
        "id": "7ZYWFN1A2Fkc",
        "outputId": "bda35933-5069-45be-ee6a-f6c57ecc7654"
      },
      "execution_count": 137,
      "outputs": [
        {
          "output_type": "stream",
          "name": "stdout",
          "text": [
            "Teacher - Name:  teacherZ2023  - Yob: 1991 - Subject  History \n"
          ]
        }
      ]
    },
    {
      "cell_type": "code",
      "source": [
        "doctor1 = Doctor ( name =\" doctorZ2023 \", yob =1981 , specialist =\" Endocrinologists \")\n",
        "assert doctor1 . _yob == 1981\n",
        "doctor1 . describe ()"
      ],
      "metadata": {
        "colab": {
          "base_uri": "https://localhost:8080/"
        },
        "id": "r6kwmdxu2P0u",
        "outputId": "5e24c3ef-f7d4-4a69-b150-36b5f52c162f"
      },
      "execution_count": 138,
      "outputs": [
        {
          "output_type": "stream",
          "name": "stdout",
          "text": [
            "Doctor - Name:  doctorZ2023  - Yob: 1981 - Specialist  Endocrinologists \n"
          ]
        }
      ]
    },
    {
      "cell_type": "code",
      "source": [
        "class Ward:\n",
        "    def __init__(self, name):\n",
        "        self.__name = name\n",
        "        self.__list_people = []\n",
        "\n",
        "    def add_person(self, person: Person):\n",
        "        self.__list_people.append(person)\n",
        "\n",
        "    def describe(self):\n",
        "        print(f'Name: {self.__name}')\n",
        "        for p in self.__list_people:\n",
        "            p.describe()\n",
        "\n",
        "    def count_doctors(self):\n",
        "        counter = 0\n",
        "        for p in self.__list_people:\n",
        "            if isinstance(p, Doctor):\n",
        "                counter += 1\n",
        "        return counter\n",
        "\n",
        "    def sort_yob(self):\n",
        "        self.__list_people.sort(key=lambda x: x.get_yob(), reverse=True)#key: thong tin so sanh\n",
        "\n",
        "    def compute_average(self):\n",
        "        total = 0\n",
        "        for p in self.__list_people:\n",
        "            total += p.get_yob()\n",
        "        return total / len(self.__list_people)\n",
        "\n",
        "    def compute_average_teacher(self):\n",
        "        counter = 0\n",
        "        total = 0\n",
        "        for p in self.__list_people:\n",
        "            if isinstance(p, Teacher):\n",
        "                counter += 1\n",
        "                total += p.get_yob()\n",
        "        return total / counter\n"
      ],
      "metadata": {
        "id": "6iWLUtcI2v6e"
      },
      "execution_count": 142,
      "outputs": []
    },
    {
      "cell_type": "code",
      "source": [
        "student1 = Student ( name =\" studentA \", yob =2010 , grade =\"7\")\n",
        "teacher1 = Teacher ( name =\" teacherA \", yob =1969 , subject =\" Math \")\n",
        "teacher2 = Teacher ( name =\" teacherB \", yob =1995 , subject =\" History \")\n",
        "doctor1 = Doctor ( name =\" doctorA \", yob =1945 , specialist =\" Endocrinologists \")\n",
        "#assert ward1 . count_doctors () == 1\n",
        "doctor2 = Doctor ( name =\" doctorB \", yob =1975 , specialist =\" Cardiologists \")\n",
        "ward1 = Ward ( name =\" Ward1 \")\n",
        "ward1 . add_person ( student1 )\n",
        "ward1 . add_person ( teacher1 )\n",
        "ward1 . add_person ( teacher2 )\n",
        "ward1 . add_person ( doctor1 )\n",
        "ward1 . add_person ( doctor2 )\n",
        "ward1 . count_doctors ()"
      ],
      "metadata": {
        "colab": {
          "base_uri": "https://localhost:8080/"
        },
        "id": "pV4OSrCP2etX",
        "outputId": "48c25374-a5fe-4fc2-d16f-16aae17ba057"
      },
      "execution_count": 147,
      "outputs": [
        {
          "output_type": "execute_result",
          "data": {
            "text/plain": [
              "2"
            ]
          },
          "metadata": {},
          "execution_count": 147
        }
      ]
    },
    {
      "cell_type": "code",
      "source": [
        "class MyStack:\n",
        "    def __init__(self, capacity):\n",
        "        self.__capacity = capacity\n",
        "        self.__stack = []\n",
        "\n",
        "    def is_empty(self):\n",
        "        return len(self.__stack) == 0\n",
        "\n",
        "    def is_full(self):\n",
        "        return len(self.__stack) == self.__capacity\n",
        "\n",
        "    def push(self, item):\n",
        "        if self.is_full():\n",
        "            raise Exception(\"Stack is full\")\n",
        "        self.__stack.append(item)\n",
        "\n",
        "    def pop(self):\n",
        "        if self.is_empty():\n",
        "            raise Exception(\"Stack is empty\")\n",
        "        return self.__stack.pop()\n",
        "\n",
        "    def top(self):\n",
        "        if self.is_empty():\n",
        "            return \"Stack is empty\"\n",
        "        return self.__stack[-1]"
      ],
      "metadata": {
        "id": "tbNHBvCF385q"
      },
      "execution_count": 152,
      "outputs": []
    },
    {
      "cell_type": "code",
      "source": [
        "stack1 = MyStack ( capacity =5)\n",
        "stack1 . push (1)\n",
        "assert stack1 . is_full () == False\n",
        "stack1 . push (2)\n",
        "print ( stack1 . is_full () )"
      ],
      "metadata": {
        "colab": {
          "base_uri": "https://localhost:8080/"
        },
        "id": "stOVE8Uq39S7",
        "outputId": "fd82da41-0e06-4eb5-a14d-17fb5b0e1824"
      },
      "execution_count": 153,
      "outputs": [
        {
          "output_type": "stream",
          "name": "stdout",
          "text": [
            "False\n"
          ]
        }
      ]
    },
    {
      "cell_type": "code",
      "source": [
        "stack1 = MyStack ( capacity =5)\n",
        "stack1 . push (1)\n",
        "assert stack1 . is_full () == False\n",
        "stack1 . push (2)\n",
        "print ( stack1 . top () )"
      ],
      "metadata": {
        "colab": {
          "base_uri": "https://localhost:8080/"
        },
        "id": "fK59MqoE4KH6",
        "outputId": "276d95dc-ca1d-412e-e015-b6f469bba98e"
      },
      "execution_count": 154,
      "outputs": [
        {
          "output_type": "stream",
          "name": "stdout",
          "text": [
            "2\n"
          ]
        }
      ]
    },
    {
      "cell_type": "code",
      "source": [
        "class MyQueue:\n",
        "    def __init__(self, capacity):\n",
        "        self.__capacity = capacity\n",
        "        self.__queue = []\n",
        "\n",
        "    def is_empty(self):\n",
        "        return len(self.__queue) == 0\n",
        "\n",
        "    def is_full(self):\n",
        "        return len(self.__queue) == self.__capacity\n",
        "\n",
        "    def enqueue(self, item):\n",
        "        if self.is_full():\n",
        "            raise Exception(\"Queue is full\")\n",
        "        self.__queue.append(item)\n",
        "\n",
        "    def dequeue(self):\n",
        "        if self.is_empty():\n",
        "            raise Exception(\"Queue is empty\")\n",
        "        self.__queue.pop(0)\n",
        "\n",
        "    def front(self):\n",
        "        if self.is_empty():\n",
        "            print(\"Queue is empty\")\n",
        "            return\n",
        "        return self.__queue[0]"
      ],
      "metadata": {
        "id": "joDJSUOO4Wzv"
      },
      "execution_count": 155,
      "outputs": []
    },
    {
      "cell_type": "code",
      "source": [
        "queue1 = MyQueue ( capacity =5)\n",
        "queue1 . enqueue (1)\n",
        "assert queue1 . is_full () == False\n",
        "queue1 . enqueue (2)\n",
        "print ( queue1 . is_full () )"
      ],
      "metadata": {
        "colab": {
          "base_uri": "https://localhost:8080/"
        },
        "id": "CW_nihWb4W2W",
        "outputId": "9d1dd9fb-b455-4424-d5cf-e2deedad92d6"
      },
      "execution_count": 156,
      "outputs": [
        {
          "output_type": "stream",
          "name": "stdout",
          "text": [
            "False\n"
          ]
        }
      ]
    },
    {
      "cell_type": "code",
      "source": [
        "print ( queue1 . front () )"
      ],
      "metadata": {
        "colab": {
          "base_uri": "https://localhost:8080/"
        },
        "id": "x77rp5r34gvH",
        "outputId": "935a4f27-ac6e-4c3c-be96-6fa5e9da8850"
      },
      "execution_count": 157,
      "outputs": [
        {
          "output_type": "stream",
          "name": "stdout",
          "text": [
            "1\n"
          ]
        }
      ]
    }
  ]
}